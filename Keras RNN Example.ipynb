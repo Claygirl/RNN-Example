{
 "cells": [
  {
   "cell_type": "code",
   "execution_count": null,
   "metadata": {},
   "outputs": [
    {
     "name": "stderr",
     "output_type": "stream",
     "text": [
      "Using TensorFlow backend.\n"
     ]
    }
   ],
   "source": [
    "from pandas import DataFrame\n",
    "from pandas import concat\n",
    "from keras.models import Sequential\n",
    "from keras.layers import Dense, Dropout\n",
    "from keras.layers import LSTM\n",
    "\n",
    "import numpy as np"
   ]
  },
  {
   "cell_type": "code",
   "execution_count": null,
   "metadata": {
    "collapsed": true
   },
   "outputs": [],
   "source": [
    "values = np.random.random((100, 2))"
   ]
  },
  {
   "cell_type": "code",
   "execution_count": null,
   "metadata": {
    "collapsed": true
   },
   "outputs": [],
   "source": [
    "input_train, target_train = values[0:70, 0], values[0:70, 1]\n",
    "input_test , target_test  = values[70:, 0], values[70:, 1]\n",
    "\n",
    "input_train = input_train.reshape(len(input_train), 1, 1)\n",
    "input_test = input_test.reshape(len(input_test), 1, 1)"
   ]
  },
  {
   "cell_type": "code",
   "execution_count": null,
   "metadata": {},
   "outputs": [],
   "source": [
    "epochs = 10\n",
    "batchsize = 10\n",
    "timestep = 1\n",
    "input_dim = 1\n",
    "\n",
    "batchsize"
   ]
  },
  {
   "cell_type": "code",
   "execution_count": null,
   "metadata": {},
   "outputs": [],
   "source": [
    "# Build model\n",
    "model = Sequential()\n",
    "model.add(LSTM(10, activation='sigmoid', batch_input_shape=(batchsize, timestep, input_dim), return_sequences=True, stateful=True))\n",
    "model.add(Dropout(0.5))\n",
    "model.add(LSTM(8, stateful=True))\n",
    "model.add(Dropout(0.5))\n",
    "model.add(Dense(1, activation='tanh'))\n",
    "model.compile(optimizer='rmsprop',\n",
    "              loss='mse', metrics=['accuracy'])"
   ]
  },
  {
   "cell_type": "code",
   "execution_count": null,
   "metadata": {},
   "outputs": [],
   "source": [
    "# history = model.fit(inputs, y, epochs=100, batch_size=len(values), verbose=0)\n",
    "history = model.fit(input_train, target_train, epochs=epochs, \n",
    "                   batch_size=batchsize, shuffle=False,\n",
    "                   validation_data=(input_test, target_test))"
   ]
  },
  {
   "cell_type": "code",
   "execution_count": null,
   "metadata": {},
   "outputs": [],
   "source": [
    "# new_values = np.random.random(100).reshape(100, 1, 1)\n",
    "predict = model.predict(input_test, batch_size=batchsize)"
   ]
  },
  {
   "cell_type": "code",
   "execution_count": null,
   "metadata": {},
   "outputs": [],
   "source": [
    "target_test = target_test.reshape(30, 1)"
   ]
  },
  {
   "cell_type": "code",
   "execution_count": null,
   "metadata": {},
   "outputs": [],
   "source": [
    "import matplotlib.pyplot as plt \n",
    "plt.plot(input_test.reshape(30,1), color='red', label=\"input test\")\n",
    "plt.plot(predict.reshape(30,1), color='blue', label=\"prediction\")\n",
    "plt.plot(target_test.reshape(30,1), color='orange', label=\"target test\")\n",
    "plt.title(\"Random RNN\")\n",
    "plt.xlabel('X')\n",
    "plt.ylabel('Y')\n",
    "plt.legend()\n",
    "plt.show()"
   ]
  }
 ],
 "metadata": {
  "kernelspec": {
   "display_name": "Python 3",
   "language": "python",
   "name": "python3"
  },
  "language_info": {
   "codemirror_mode": {
    "name": "ipython",
    "version": 3
   },
   "file_extension": ".py",
   "mimetype": "text/x-python",
   "name": "python",
   "nbconvert_exporter": "python",
   "pygments_lexer": "ipython3",
   "version": "3.6.2"
  }
 },
 "nbformat": 4,
 "nbformat_minor": 2
}
